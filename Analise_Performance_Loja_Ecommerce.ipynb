{
  "nbformat": 4,
  "nbformat_minor": 0,
  "metadata": {
    "colab": {
      "provenance": [],
      "authorship_tag": "ABX9TyNkbYzfH3Bo/WkbYemY2cuL",
      "include_colab_link": true
    },
    "kernelspec": {
      "name": "ir",
      "display_name": "R"
    },
    "language_info": {
      "name": "R"
    }
  },
  "cells": [
    {
      "cell_type": "markdown",
      "metadata": {
        "id": "view-in-github",
        "colab_type": "text"
      },
      "source": [
        "<a href=\"https://colab.research.google.com/github/Gabrieldiasdeoliveira/Analise_Performance_Loja/blob/main/Analise_Performance_Loja_Ecommerce.ipynb\" target=\"_parent\"><img src=\"https://colab.research.google.com/assets/colab-badge.svg\" alt=\"Open In Colab\"/></a>"
      ]
    },
    {
      "cell_type": "code",
      "source": [
        "library(readxl)\n",
        "library(dplyr)\n",
        "library(ggplot2)"
      ],
      "metadata": {
        "id": "H73xta2PNLuV"
      },
      "execution_count": 6,
      "outputs": []
    },
    {
      "cell_type": "code",
      "source": [
        "# Definir a opção para evitar notação científica\n",
        "options(scipen = 999)"
      ],
      "metadata": {
        "id": "BlKvWN8yQNAw"
      },
      "execution_count": 7,
      "outputs": []
    },
    {
      "cell_type": "code",
      "execution_count": 8,
      "metadata": {
        "id": "384CQXJKMZAh",
        "colab": {
          "base_uri": "https://localhost:8080/",
          "height": 0
        },
        "outputId": "fe3973de-fbaa-4194-fa52-b56621c042bc"
      },
      "outputs": [
        {
          "output_type": "stream",
          "name": "stdout",
          "text": [
            "\u001b[90m# A tibble: 2,926 × 4\u001b[39m\n",
            "   Loja    Ano Mes     Venda\n",
            "   \u001b[3m\u001b[90m<chr>\u001b[39m\u001b[23m \u001b[3m\u001b[90m<dbl>\u001b[39m\u001b[23m \u001b[3m\u001b[90m<chr>\u001b[39m\u001b[23m   \u001b[3m\u001b[90m<dbl>\u001b[39m\u001b[23m\n",
            "\u001b[90m 1\u001b[39m 1      \u001b[4m2\u001b[24m018 jan   \u001b[4m2\u001b[24m\u001b[4m9\u001b[24m\u001b[4m9\u001b[24m245.\n",
            "\u001b[90m 2\u001b[39m 1      \u001b[4m2\u001b[24m018 fev   \u001b[4m3\u001b[24m\u001b[4m0\u001b[24m\u001b[4m5\u001b[24m991.\n",
            "\u001b[90m 3\u001b[39m 1      \u001b[4m2\u001b[24m018 mar   \u001b[4m3\u001b[24m\u001b[4m2\u001b[24m\u001b[4m9\u001b[24m688.\n",
            "\u001b[90m 4\u001b[39m 1      \u001b[4m2\u001b[24m018 abr   \u001b[4m3\u001b[24m\u001b[4m7\u001b[24m\u001b[4m1\u001b[24m206.\n",
            "\u001b[90m 5\u001b[39m 1      \u001b[4m2\u001b[24m018 mai   \u001b[4m3\u001b[24m\u001b[4m2\u001b[24m\u001b[4m5\u001b[24m520.\n",
            "\u001b[90m 6\u001b[39m 1      \u001b[4m2\u001b[24m018 jun   \u001b[4m4\u001b[24m\u001b[4m0\u001b[24m\u001b[4m8\u001b[24m801.\n",
            "\u001b[90m 7\u001b[39m 1      \u001b[4m2\u001b[24m018 jul   \u001b[4m4\u001b[24m\u001b[4m1\u001b[24m\u001b[4m1\u001b[24m977.\n",
            "\u001b[90m 8\u001b[39m 1      \u001b[4m2\u001b[24m018 ago   \u001b[4m3\u001b[24m\u001b[4m4\u001b[24m\u001b[4m5\u001b[24m155.\n",
            "\u001b[90m 9\u001b[39m 1      \u001b[4m2\u001b[24m018 set   \u001b[4m3\u001b[24m\u001b[4m5\u001b[24m\u001b[4m2\u001b[24m072.\n",
            "\u001b[90m10\u001b[39m 1      \u001b[4m2\u001b[24m018 out   \u001b[4m3\u001b[24m\u001b[4m7\u001b[24m\u001b[4m1\u001b[24m522.\n",
            "\u001b[90m# ℹ 2,916 more rows\u001b[39m\n"
          ]
        }
      ],
      "source": [
        "# Leitura dos dados\n",
        "dados <- read_xlsx (\"/dados.xlsx\")\n",
        "print(dados)"
      ]
    },
    {
      "cell_type": "code",
      "source": [
        "# Calculando a média de vendas por loja e ano:\n",
        "\n",
        "media_vendas <- dados %>%\n",
        "  group_by(Loja, Ano) %>%\n",
        "  summarize(Media_Venda = mean(Venda, na.rm = TRUE))\n",
        "print(media_vendas)"
      ],
      "metadata": {
        "colab": {
          "base_uri": "https://localhost:8080/",
          "height": 0
        },
        "id": "Q4b_gTuBO8VE",
        "outputId": "0c6b6600-2950-4d29-c89e-e062b407e99e"
      },
      "execution_count": 16,
      "outputs": [
        {
          "output_type": "stream",
          "name": "stderr",
          "text": [
            "\u001b[1m\u001b[22m`summarise()` has grouped output by 'Loja'. You can override using the\n",
            "`.groups` argument.\n"
          ]
        },
        {
          "output_type": "stream",
          "name": "stdout",
          "text": [
            "\u001b[90m# A tibble: 250 × 3\u001b[39m\n",
            "\u001b[90m# Groups:   Loja [127]\u001b[39m\n",
            "   Loja    Ano Media_Venda\n",
            "   \u001b[3m\u001b[90m<chr>\u001b[39m\u001b[23m \u001b[3m\u001b[90m<dbl>\u001b[39m\u001b[23m       \u001b[3m\u001b[90m<dbl>\u001b[39m\u001b[23m\n",
            "\u001b[90m 1\u001b[39m 1      \u001b[4m2\u001b[24m018     \u001b[4m3\u001b[24m\u001b[4m7\u001b[24m\u001b[4m5\u001b[24m247.\n",
            "\u001b[90m 2\u001b[39m 1      \u001b[4m2\u001b[24m019     \u001b[4m3\u001b[24m\u001b[4m8\u001b[24m\u001b[4m9\u001b[24m394.\n",
            "\u001b[90m 3\u001b[39m 10     \u001b[4m2\u001b[24m018     \u001b[4m3\u001b[24m\u001b[4m6\u001b[24m\u001b[4m6\u001b[24m391.\n",
            "\u001b[90m 4\u001b[39m 10     \u001b[4m2\u001b[24m019     \u001b[4m3\u001b[24m\u001b[4m7\u001b[24m\u001b[4m1\u001b[24m003.\n",
            "\u001b[90m 5\u001b[39m 100    \u001b[4m2\u001b[24m018     \u001b[4m4\u001b[24m\u001b[4m4\u001b[24m\u001b[4m7\u001b[24m377.\n",
            "\u001b[90m 6\u001b[39m 100    \u001b[4m2\u001b[24m019     \u001b[4m4\u001b[24m\u001b[4m6\u001b[24m\u001b[4m4\u001b[24m979.\n",
            "\u001b[90m 7\u001b[39m 101    \u001b[4m2\u001b[24m018     \u001b[4m4\u001b[24m\u001b[4m2\u001b[24m\u001b[4m4\u001b[24m419.\n",
            "\u001b[90m 8\u001b[39m 101    \u001b[4m2\u001b[24m019     \u001b[4m4\u001b[24m\u001b[4m8\u001b[24m\u001b[4m1\u001b[24m535.\n",
            "\u001b[90m 9\u001b[39m 102    \u001b[4m2\u001b[24m018     \u001b[4m3\u001b[24m\u001b[4m7\u001b[24m\u001b[4m7\u001b[24m225.\n",
            "\u001b[90m10\u001b[39m 102    \u001b[4m2\u001b[24m019     \u001b[4m4\u001b[24m\u001b[4m0\u001b[24m\u001b[4m3\u001b[24m068.\n",
            "\u001b[90m# ℹ 240 more rows\u001b[39m\n"
          ]
        }
      ]
    },
    {
      "cell_type": "code",
      "source": [
        "# Media de vendas em ordem decrescente para obter as 5 maiores médias\n",
        "maiores_medias <- media_vendas %>%\n",
        "  arrange(desc(Media_Venda)) %>%\n",
        "  head(5)\n",
        "# Média de vendas em ordem crescente para obter as 5 menores médias\n",
        "menores_medias <- media_vendas %>%\n",
        "  arrange(Media_Venda) %>%\n",
        "  head(5)"
      ],
      "metadata": {
        "id": "TzKiH_RfZbg3"
      },
      "execution_count": 18,
      "outputs": []
    },
    {
      "cell_type": "code",
      "source": [
        "# Criando uma tabela com as 5 maiores médias e as 5 menores médias\n",
        "tabela_maiores_e_menores_medias <- rbind(maiores_medias, menores_medias)\n",
        "\n",
        "print(tabela_maiores_e_menores_medias)"
      ],
      "metadata": {
        "colab": {
          "base_uri": "https://localhost:8080/",
          "height": 0
        },
        "id": "_ltQMjFUZyk0",
        "outputId": "8278604f-fd88-4c94-dd3d-3acd0a451212"
      },
      "execution_count": 19,
      "outputs": [
        {
          "output_type": "stream",
          "name": "stdout",
          "text": [
            "\u001b[90m# A tibble: 10 × 3\u001b[39m\n",
            "\u001b[90m# Groups:   Loja [7]\u001b[39m\n",
            "   Loja    Ano Media_Venda\n",
            "   \u001b[3m\u001b[90m<chr>\u001b[39m\u001b[23m \u001b[3m\u001b[90m<dbl>\u001b[39m\u001b[23m       \u001b[3m\u001b[90m<dbl>\u001b[39m\u001b[23m\n",
            "\u001b[90m 1\u001b[39m 11     \u001b[4m2\u001b[24m019    1\u001b[4m6\u001b[24m\u001b[4m6\u001b[24m\u001b[4m8\u001b[24m628.\n",
            "\u001b[90m 2\u001b[39m 11     \u001b[4m2\u001b[24m018    1\u001b[4m5\u001b[24m\u001b[4m3\u001b[24m\u001b[4m1\u001b[24m852.\n",
            "\u001b[90m 3\u001b[39m 30     \u001b[4m2\u001b[24m019    1\u001b[4m4\u001b[24m\u001b[4m0\u001b[24m\u001b[4m2\u001b[24m808.\n",
            "\u001b[90m 4\u001b[39m 30     \u001b[4m2\u001b[24m018    1\u001b[4m4\u001b[24m\u001b[4m0\u001b[24m\u001b[4m0\u001b[24m070.\n",
            "\u001b[90m 5\u001b[39m 43     \u001b[4m2\u001b[24m019    1\u001b[4m3\u001b[24m\u001b[4m7\u001b[24m\u001b[4m1\u001b[24m419.\n",
            "\u001b[90m 6\u001b[39m 506    \u001b[4m2\u001b[24m018       \u001b[4m6\u001b[24m572.\n",
            "\u001b[90m 7\u001b[39m 74     \u001b[4m2\u001b[24m019     \u001b[4m1\u001b[24m\u001b[4m4\u001b[24m\u001b[4m8\u001b[24m751.\n",
            "\u001b[90m 8\u001b[39m 74     \u001b[4m2\u001b[24m018     \u001b[4m1\u001b[24m\u001b[4m4\u001b[24m\u001b[4m9\u001b[24m667.\n",
            "\u001b[90m 9\u001b[39m 126    \u001b[4m2\u001b[24m019     \u001b[4m1\u001b[24m\u001b[4m5\u001b[24m\u001b[4m8\u001b[24m965.\n",
            "\u001b[90m10\u001b[39m 6      \u001b[4m2\u001b[24m019     \u001b[4m1\u001b[24m\u001b[4m5\u001b[24m\u001b[4m9\u001b[24m473.\n"
          ]
        }
      ]
    },
    {
      "cell_type": "code",
      "source": [
        "# Calculando o total de vendas por mês e ano:\n",
        "\n",
        "total_vendas_por_mes <- dados %>%\n",
        "  group_by(Ano, Mes) %>%\n",
        "  summarize(Total_Venda = sum(Venda, na.rm = TRUE))\n",
        "print(total_vendas_por_mes)"
      ],
      "metadata": {
        "colab": {
          "base_uri": "https://localhost:8080/",
          "height": 0
        },
        "id": "PylnYb0IPael",
        "outputId": "18833876-34ff-41b2-d310-ab374ad34c17"
      },
      "execution_count": 21,
      "outputs": [
        {
          "output_type": "stream",
          "name": "stderr",
          "text": [
            "\u001b[1m\u001b[22m`summarise()` has grouped output by 'Ano'. You can override using the `.groups`\n",
            "argument.\n"
          ]
        },
        {
          "output_type": "stream",
          "name": "stdout",
          "text": [
            "\u001b[90m# A tibble: 24 × 3\u001b[39m\n",
            "\u001b[90m# Groups:   Ano [2]\u001b[39m\n",
            "     Ano Mes   Total_Venda\n",
            "   \u001b[3m\u001b[90m<dbl>\u001b[39m\u001b[23m \u001b[3m\u001b[90m<chr>\u001b[39m\u001b[23m       \u001b[3m\u001b[90m<dbl>\u001b[39m\u001b[23m\n",
            "\u001b[90m 1\u001b[39m  \u001b[4m2\u001b[24m018 abr     45\u001b[4m7\u001b[24m\u001b[4m1\u001b[24m\u001b[4m8\u001b[24m812.\n",
            "\u001b[90m 2\u001b[39m  \u001b[4m2\u001b[24m018 ago     52\u001b[4m8\u001b[24m\u001b[4m3\u001b[24m\u001b[4m9\u001b[24m897.\n",
            "\u001b[90m 3\u001b[39m  \u001b[4m2\u001b[24m018 dez    116\u001b[4m1\u001b[24m\u001b[4m4\u001b[24m\u001b[4m0\u001b[24m909.\n",
            "\u001b[90m 4\u001b[39m  \u001b[4m2\u001b[24m018 fev     35\u001b[4m0\u001b[24m\u001b[4m7\u001b[24m\u001b[4m7\u001b[24m044.\n",
            "\u001b[90m 5\u001b[39m  \u001b[4m2\u001b[24m018 jan     37\u001b[4m9\u001b[24m\u001b[4m3\u001b[24m\u001b[4m7\u001b[24m854.\n",
            "\u001b[90m 6\u001b[39m  \u001b[4m2\u001b[24m018 jul     51\u001b[4m7\u001b[24m\u001b[4m4\u001b[24m\u001b[4m0\u001b[24m056.\n",
            "\u001b[90m 7\u001b[39m  \u001b[4m2\u001b[24m018 jun     53\u001b[4m7\u001b[24m\u001b[4m6\u001b[24m\u001b[4m9\u001b[24m380.\n",
            "\u001b[90m 8\u001b[39m  \u001b[4m2\u001b[24m018 mai     53\u001b[4m5\u001b[24m\u001b[4m8\u001b[24m\u001b[4m6\u001b[24m064.\n",
            "\u001b[90m 9\u001b[39m  \u001b[4m2\u001b[24m018 mar     43\u001b[4m8\u001b[24m\u001b[4m5\u001b[24m\u001b[4m2\u001b[24m141.\n",
            "\u001b[90m10\u001b[39m  \u001b[4m2\u001b[24m018 nov     57\u001b[4m9\u001b[24m\u001b[4m4\u001b[24m\u001b[4m5\u001b[24m021.\n",
            "\u001b[90m# ℹ 14 more rows\u001b[39m\n"
          ]
        }
      ]
    },
    {
      "cell_type": "code",
      "source": [
        "# Definir a opção para evitar notação científica\n",
        "options(scipen = 999)"
      ],
      "metadata": {
        "id": "1kvEM_BVQb_d"
      },
      "execution_count": 22,
      "outputs": []
    },
    {
      "cell_type": "code",
      "source": [
        "# Filtrar apenas os dados de 2019\n",
        "vendas_2019 <- filter(dados, Ano == 2019)\n",
        "\n",
        "# Calcular o total de vendas por loja em 2019\n",
        "vendas_por_loja_2019 <- vendas_2019 %>%\n",
        "  group_by(Loja) %>%\n",
        "  summarize(Total_Venda = sum(Venda)) %>%\n",
        "  arrange(desc(Total_Venda)) %>%\n",
        "  head(20)\n",
        "\n",
        "# Criar o gráfico de barras com as 20 maiores vendas por loja em 2019\n",
        "ggplot(vendas_por_loja_2019, aes(x = factor(Loja), y = Total_Venda)) +\n",
        "  geom_bar(stat = \"identity\", fill = \"steelblue\") +\n",
        "  labs(title = \"20 Maiores Vendas por Loja em 2019\", x = \"Loja\", y = \"Total de Vendas\")"
      ],
      "metadata": {
        "colab": {
          "base_uri": "https://localhost:8080/",
          "height": 437
        },
        "id": "4TOFmICCQoOy",
        "outputId": "511d5af5-f388-42e9-c644-3a1dcc9f3c50"
      },
      "execution_count": 23,
      "outputs": [
        {
          "output_type": "display_data",
          "data": {
            "text/plain": [
              "plot without title"
            ],
            "image/png": "[encoded data removed]"
          },
          "metadata": {
            "image/png": {
              "width": 420,
              "height": 420
            }
          }
        }
      ]
    },
    {
      "cell_type": "markdown",
      "source": [
        "# 1. Loja com melhor crescimento no Ano de 2019, em percentual de crescimento sobre ano anterior\n",
        "\n",
        "*Aproveitei e calculei as lojas com menor crescimento*"
      ],
      "metadata": {
        "id": "c6Wb2NisTFde"
      }
    },
    {
      "cell_type": "code",
      "source": [
        "# Filtrando os dados apenas para os anos de 2018 e 2019\n",
        "dados_2018_2019 <- filter(dados, Ano %in% c(2018, 2019))\n",
        "\n",
        "# Calcular o total de vendas para cada loja em 2018 e 2019\n",
        "vendas_por_loja_2018 <- dados_2018_2019 %>%\n",
        "  filter(Ano == 2018) %>%\n",
        "  group_by(Loja) %>%\n",
        "  summarize(Total_Venda_2018 = sum(Venda))\n",
        "\n",
        "vendas_por_loja_2019 <- dados_2018_2019 %>%\n",
        "  filter(Ano == 2019) %>%\n",
        "  group_by(Loja) %>%\n",
        "  summarize(Total_Venda_2019 = sum(Venda))"
      ],
      "metadata": {
        "id": "WvdyBCICQ7wI"
      },
      "execution_count": 24,
      "outputs": []
    },
    {
      "cell_type": "code",
      "source": [
        "# Juntando os totais de vendas de 2018 e 2019 em um único dataframe\n",
        "crescimento_por_loja <- left_join(vendas_por_loja_2019, vendas_por_loja_2018, by = \"Loja\")\n",
        "\n",
        "# Calculando o percentual de crescimento entre 2018 e 2019 para cada loja\n",
        "crescimento_por_loja <- crescimento_por_loja %>%\n",
        "  mutate(Percentual_Crescimento = (Total_Venda_2019 - Total_Venda_2018) / Total_Venda_2018 * 100)\n",
        "\n"
      ],
      "metadata": {
        "id": "VsjgbLU3RBdE"
      },
      "execution_count": 25,
      "outputs": []
    },
    {
      "cell_type": "code",
      "source": [
        "# Ordenando as lojas pelo percentual de crescimento em 2019\n",
        "crescimento_por_loja <- crescimento_por_loja %>%\n",
        "  arrange(desc(Percentual_Crescimento))"
      ],
      "metadata": {
        "id": "V-tbiikXSB6E"
      },
      "execution_count": 26,
      "outputs": []
    },
    {
      "cell_type": "code",
      "source": [
        "# Tabela com as 20 primeiras lojas de maior crescimento em 2019 comparado a 2018\n",
        "tabela_melhores_lojas <- head(crescimento_por_loja, 20)\n",
        "print(tabela_melhores_lojas)"
      ],
      "metadata": {
        "colab": {
          "base_uri": "https://localhost:8080/",
          "height": 0
        },
        "id": "oQ4q_RIgSEjq",
        "outputId": "4799e42a-e752-4e1a-91c6-c5c0471d05a4"
      },
      "execution_count": 27,
      "outputs": [
        {
          "output_type": "stream",
          "name": "stdout",
          "text": [
            "\u001b[90m# A tibble: 20 × 4\u001b[39m\n",
            "   Loja  Total_Venda_2019 Total_Venda_2018 Percentual_Crescimento\n",
            "   \u001b[3m\u001b[90m<chr>\u001b[39m\u001b[23m            \u001b[3m\u001b[90m<dbl>\u001b[39m\u001b[23m            \u001b[3m\u001b[90m<dbl>\u001b[39m\u001b[23m                  \u001b[3m\u001b[90m<dbl>\u001b[39m\u001b[23m\n",
            "\u001b[90m 1\u001b[39m 506           3\u001b[4m1\u001b[24m\u001b[4m4\u001b[24m\u001b[4m9\u001b[24m044.            \u001b[4m6\u001b[24m572.               \u001b[4m4\u001b[24m\u001b[4m7\u001b[24m813.  \n",
            "\u001b[90m 2\u001b[39m 141           6\u001b[4m6\u001b[24m\u001b[4m6\u001b[24m\u001b[4m7\u001b[24m934.         1\u001b[4m9\u001b[24m\u001b[4m6\u001b[24m\u001b[4m6\u001b[24m740.                 239.  \n",
            "\u001b[90m 3\u001b[39m 136           3\u001b[4m6\u001b[24m\u001b[4m6\u001b[24m\u001b[4m7\u001b[24m945.         1\u001b[4m0\u001b[24m\u001b[4m8\u001b[24m\u001b[4m5\u001b[24m896.                 238.  \n",
            "\u001b[90m 4\u001b[39m 140           5\u001b[4m4\u001b[24m\u001b[4m3\u001b[24m\u001b[4m4\u001b[24m691.         1\u001b[4m9\u001b[24m\u001b[4m6\u001b[24m\u001b[4m1\u001b[24m619.                 177.  \n",
            "\u001b[90m 5\u001b[39m 139           4\u001b[4m6\u001b[24m\u001b[4m2\u001b[24m\u001b[4m8\u001b[24m846.         2\u001b[4m1\u001b[24m\u001b[4m9\u001b[24m\u001b[4m1\u001b[24m948.                 111.  \n",
            "\u001b[90m 6\u001b[39m 107           3\u001b[4m3\u001b[24m\u001b[4m0\u001b[24m\u001b[4m4\u001b[24m020.         2\u001b[4m5\u001b[24m\u001b[4m1\u001b[24m\u001b[4m4\u001b[24m088.                  31.4 \n",
            "\u001b[90m 7\u001b[39m 63            2\u001b[4m5\u001b[24m\u001b[4m8\u001b[24m\u001b[4m8\u001b[24m557.         2\u001b[4m1\u001b[24m\u001b[4m3\u001b[24m\u001b[4m8\u001b[24m800.                  21.0 \n",
            "\u001b[90m 8\u001b[39m 64            5\u001b[4m8\u001b[24m\u001b[4m9\u001b[24m\u001b[4m8\u001b[24m779.         5\u001b[4m0\u001b[24m\u001b[4m2\u001b[24m\u001b[4m6\u001b[24m502.                  17.4 \n",
            "\u001b[90m 9\u001b[39m 129           4\u001b[4m5\u001b[24m\u001b[4m7\u001b[24m\u001b[4m2\u001b[24m697.         3\u001b[4m9\u001b[24m\u001b[4m7\u001b[24m\u001b[4m2\u001b[24m967.                  15.1 \n",
            "\u001b[90m10\u001b[39m 79            8\u001b[4m4\u001b[24m\u001b[4m4\u001b[24m\u001b[4m0\u001b[24m358.         7\u001b[4m3\u001b[24m\u001b[4m8\u001b[24m\u001b[4m1\u001b[24m929.                  14.3 \n",
            "\u001b[90m11\u001b[39m 35           11\u001b[4m2\u001b[24m\u001b[4m2\u001b[24m\u001b[4m6\u001b[24m160.         9\u001b[4m8\u001b[24m\u001b[4m7\u001b[24m\u001b[4m7\u001b[24m111.                  13.7 \n",
            "\u001b[90m12\u001b[39m 101           5\u001b[4m7\u001b[24m\u001b[4m7\u001b[24m\u001b[4m8\u001b[24m417.         5\u001b[4m0\u001b[24m\u001b[4m9\u001b[24m\u001b[4m3\u001b[24m031.                  13.5 \n",
            "\u001b[90m13\u001b[39m 44            2\u001b[4m8\u001b[24m\u001b[4m9\u001b[24m\u001b[4m0\u001b[24m072.         2\u001b[4m5\u001b[24m\u001b[4m6\u001b[24m\u001b[4m1\u001b[24m451.                  12.8 \n",
            "\u001b[90m14\u001b[39m 80            6\u001b[4m5\u001b[24m\u001b[4m0\u001b[24m\u001b[4m0\u001b[24m482.         5\u001b[4m7\u001b[24m\u001b[4m7\u001b[24m\u001b[4m4\u001b[24m640.                  12.6 \n",
            "\u001b[90m15\u001b[39m 65            6\u001b[4m5\u001b[24m\u001b[4m5\u001b[24m\u001b[4m8\u001b[24m298.         5\u001b[4m9\u001b[24m\u001b[4m0\u001b[24m\u001b[4m9\u001b[24m372.                  11.0 \n",
            "\u001b[90m16\u001b[39m 94           10\u001b[4m0\u001b[24m\u001b[4m2\u001b[24m\u001b[4m8\u001b[24m245.         9\u001b[4m0\u001b[24m\u001b[4m4\u001b[24m\u001b[4m0\u001b[24m187.                  10.9 \n",
            "\u001b[90m17\u001b[39m 122          12\u001b[4m7\u001b[24m\u001b[4m8\u001b[24m\u001b[4m5\u001b[24m292.        11\u001b[4m5\u001b[24m\u001b[4m5\u001b[24m\u001b[4m2\u001b[24m476.                  10.7 \n",
            "\u001b[90m18\u001b[39m 117           4\u001b[4m5\u001b[24m\u001b[4m8\u001b[24m\u001b[4m8\u001b[24m554.         4\u001b[4m1\u001b[24m\u001b[4m5\u001b[24m\u001b[4m5\u001b[24m134.                  10.4 \n",
            "\u001b[90m19\u001b[39m 26           15\u001b[4m1\u001b[24m\u001b[4m9\u001b[24m\u001b[4m4\u001b[24m512.        13\u001b[4m8\u001b[24m\u001b[4m4\u001b[24m\u001b[4m1\u001b[24m434.                   9.78\n",
            "\u001b[90m20\u001b[39m 41            6\u001b[4m3\u001b[24m\u001b[4m7\u001b[24m\u001b[4m6\u001b[24m463.         5\u001b[4m8\u001b[24m\u001b[4m2\u001b[24m\u001b[4m9\u001b[24m508.                   9.38\n"
          ]
        }
      ]
    },
    {
      "cell_type": "code",
      "source": [
        "# Ordenando as lojas pelo pior crescimento percentual em 2019 comparado a 2019\n",
        "crescimento_por_loja <- crescimento_por_loja %>%\n",
        "  arrange(Percentual_Crescimento)\n",
        "\n",
        "# Mostrando a tabela com as 20 primeiras lojas de maior crescimento em 2019\n",
        "tabela_melhores_lojas <- head(crescimento_por_loja, 20)\n",
        "print(tabela_melhores_lojas)"
      ],
      "metadata": {
        "colab": {
          "base_uri": "https://localhost:8080/",
          "height": 0
        },
        "id": "Wr7KLafnQ7kz",
        "outputId": "c657ee09-c865-482c-b252-7ed09e4586fb"
      },
      "execution_count": 28,
      "outputs": [
        {
          "output_type": "stream",
          "name": "stdout",
          "text": [
            "\u001b[90m# A tibble: 20 × 4\u001b[39m\n",
            "   Loja  Total_Venda_2019 Total_Venda_2018 Percentual_Crescimento\n",
            "   \u001b[3m\u001b[90m<chr>\u001b[39m\u001b[23m            \u001b[3m\u001b[90m<dbl>\u001b[39m\u001b[23m            \u001b[3m\u001b[90m<dbl>\u001b[39m\u001b[23m                  \u001b[3m\u001b[90m<dbl>\u001b[39m\u001b[23m\n",
            "\u001b[90m 1\u001b[39m 3             4\u001b[4m0\u001b[24m\u001b[4m2\u001b[24m\u001b[4m6\u001b[24m902.         5\u001b[4m2\u001b[24m\u001b[4m1\u001b[24m\u001b[4m7\u001b[24m404.                 -\u001b[31m22\u001b[39m\u001b[31m.\u001b[39m\u001b[31m8\u001b[39m \n",
            "\u001b[90m 2\u001b[39m 5             2\u001b[4m8\u001b[24m\u001b[4m2\u001b[24m\u001b[4m3\u001b[24m487.         3\u001b[4m4\u001b[24m\u001b[4m0\u001b[24m\u001b[4m4\u001b[24m184.                 -\u001b[31m17\u001b[39m\u001b[31m.\u001b[39m\u001b[31m1\u001b[39m \n",
            "\u001b[90m 3\u001b[39m 28            4\u001b[4m4\u001b[24m\u001b[4m2\u001b[24m\u001b[4m6\u001b[24m060.         5\u001b[4m2\u001b[24m\u001b[4m1\u001b[24m\u001b[4m6\u001b[24m176.                 -\u001b[31m15\u001b[39m\u001b[31m.\u001b[39m\u001b[31m1\u001b[39m \n",
            "\u001b[90m 4\u001b[39m 61            6\u001b[4m0\u001b[24m\u001b[4m0\u001b[24m\u001b[4m8\u001b[24m997.         7\u001b[4m0\u001b[24m\u001b[4m4\u001b[24m\u001b[4m4\u001b[24m964.                 -\u001b[31m14\u001b[39m\u001b[31m.\u001b[39m\u001b[31m7\u001b[39m \n",
            "\u001b[90m 5\u001b[39m 27            3\u001b[4m5\u001b[24m\u001b[4m6\u001b[24m\u001b[4m3\u001b[24m767.         4\u001b[4m0\u001b[24m\u001b[4m9\u001b[24m\u001b[4m2\u001b[24m827.                 -\u001b[31m12\u001b[39m\u001b[31m.\u001b[39m\u001b[31m9\u001b[39m \n",
            "\u001b[90m 6\u001b[39m 92            2\u001b[4m4\u001b[24m\u001b[4m6\u001b[24m\u001b[4m6\u001b[24m341.         2\u001b[4m8\u001b[24m\u001b[4m3\u001b[24m\u001b[4m2\u001b[24m466.                 -\u001b[31m12\u001b[39m\u001b[31m.\u001b[39m\u001b[31m9\u001b[39m \n",
            "\u001b[90m 7\u001b[39m 84            3\u001b[4m3\u001b[24m\u001b[4m5\u001b[24m\u001b[4m2\u001b[24m178.         3\u001b[4m8\u001b[24m\u001b[4m4\u001b[24m\u001b[4m1\u001b[24m990.                 -\u001b[31m12\u001b[39m\u001b[31m.\u001b[39m\u001b[31m7\u001b[39m \n",
            "\u001b[90m 8\u001b[39m 39            6\u001b[4m8\u001b[24m\u001b[4m0\u001b[24m\u001b[4m2\u001b[24m496.         7\u001b[4m7\u001b[24m\u001b[4m8\u001b[24m\u001b[4m3\u001b[24m564.                 -\u001b[31m12\u001b[39m\u001b[31m.\u001b[39m\u001b[31m6\u001b[39m \n",
            "\u001b[90m 9\u001b[39m 71            3\u001b[4m2\u001b[24m\u001b[4m8\u001b[24m\u001b[4m5\u001b[24m748.         3\u001b[4m7\u001b[24m\u001b[4m4\u001b[24m\u001b[4m9\u001b[24m345.                 -\u001b[31m12\u001b[39m\u001b[31m.\u001b[39m\u001b[31m4\u001b[39m \n",
            "\u001b[90m10\u001b[39m 85            2\u001b[4m9\u001b[24m\u001b[4m4\u001b[24m\u001b[4m5\u001b[24m563.         3\u001b[4m3\u001b[24m\u001b[4m3\u001b[24m\u001b[4m1\u001b[24m567.                 -\u001b[31m11\u001b[39m\u001b[31m.\u001b[39m\u001b[31m6\u001b[39m \n",
            "\u001b[90m11\u001b[39m 125           3\u001b[4m1\u001b[24m\u001b[4m3\u001b[24m\u001b[4m4\u001b[24m712.         3\u001b[4m5\u001b[24m\u001b[4m4\u001b[24m\u001b[4m0\u001b[24m015.                 -\u001b[31m11\u001b[39m\u001b[31m.\u001b[39m\u001b[31m4\u001b[39m \n",
            "\u001b[90m12\u001b[39m 86            4\u001b[4m1\u001b[24m\u001b[4m4\u001b[24m\u001b[4m3\u001b[24m045.         4\u001b[4m6\u001b[24m\u001b[4m6\u001b[24m\u001b[4m7\u001b[24m869.                 -\u001b[31m11\u001b[39m\u001b[31m.\u001b[39m\u001b[31m2\u001b[39m \n",
            "\u001b[90m13\u001b[39m 12            4\u001b[4m7\u001b[24m\u001b[4m3\u001b[24m\u001b[4m0\u001b[24m458.         5\u001b[4m2\u001b[24m\u001b[4m8\u001b[24m\u001b[4m7\u001b[24m322.                 -\u001b[31m10\u001b[39m\u001b[31m.\u001b[39m\u001b[31m5\u001b[39m \n",
            "\u001b[90m14\u001b[39m 53            5\u001b[4m1\u001b[24m\u001b[4m3\u001b[24m\u001b[4m0\u001b[24m002.         5\u001b[4m6\u001b[24m\u001b[4m8\u001b[24m\u001b[4m4\u001b[24m442.                  -\u001b[31m9\u001b[39m\u001b[31m.\u001b[39m\u001b[31m75\u001b[39m\n",
            "\u001b[90m15\u001b[39m 21            5\u001b[4m7\u001b[24m\u001b[4m2\u001b[24m\u001b[4m4\u001b[24m357.         6\u001b[4m3\u001b[24m\u001b[4m1\u001b[24m\u001b[4m1\u001b[24m592.                  -\u001b[31m9\u001b[39m\u001b[31m.\u001b[39m\u001b[31m30\u001b[39m\n",
            "\u001b[90m16\u001b[39m 127           4\u001b[4m5\u001b[24m\u001b[4m3\u001b[24m\u001b[4m6\u001b[24m373.         4\u001b[4m9\u001b[24m\u001b[4m9\u001b[24m\u001b[4m4\u001b[24m635.                  -\u001b[31m9\u001b[39m\u001b[31m.\u001b[39m\u001b[31m18\u001b[39m\n",
            "\u001b[90m17\u001b[39m 112           2\u001b[4m6\u001b[24m\u001b[4m4\u001b[24m\u001b[4m9\u001b[24m451.         2\u001b[4m9\u001b[24m\u001b[4m0\u001b[24m\u001b[4m6\u001b[24m262.                  -\u001b[31m8\u001b[39m\u001b[31m.\u001b[39m\u001b[31m84\u001b[39m\n",
            "\u001b[90m18\u001b[39m 6             1\u001b[4m9\u001b[24m\u001b[4m1\u001b[24m\u001b[4m3\u001b[24m681.         2\u001b[4m0\u001b[24m\u001b[4m9\u001b[24m\u001b[4m8\u001b[24m846.                  -\u001b[31m8\u001b[39m\u001b[31m.\u001b[39m\u001b[31m82\u001b[39m\n",
            "\u001b[90m19\u001b[39m 121           2\u001b[4m4\u001b[24m\u001b[4m5\u001b[24m\u001b[4m8\u001b[24m154.         2\u001b[4m6\u001b[24m\u001b[4m8\u001b[24m\u001b[4m7\u001b[24m750.                  -\u001b[31m8\u001b[39m\u001b[31m.\u001b[39m\u001b[31m54\u001b[39m\n",
            "\u001b[90m20\u001b[39m 40            5\u001b[4m8\u001b[24m\u001b[4m1\u001b[24m\u001b[4m4\u001b[24m002.         6\u001b[4m3\u001b[24m\u001b[4m1\u001b[24m\u001b[4m4\u001b[24m512.                  -\u001b[31m7\u001b[39m\u001b[31m.\u001b[39m\u001b[31m93\u001b[39m\n"
          ]
        }
      ]
    },
    {
      "cell_type": "markdown",
      "source": [
        "# 2.Loja com melhor crescimento no 1º e 2º semestre de 2019, em percentual de crescimento sobre ano anterior;"
      ],
      "metadata": {
        "id": "DHMWd4wyUQrE"
      }
    },
    {
      "cell_type": "code",
      "source": [
        "# Separando os dados por semestre (1º e 2º semestre de 2019)\n",
        "crescimento_por_loja_semestre <- crescimento_por_loja %>%\n",
        "  mutate(Semestre = ifelse(substr(Loja, 1, 1) < \"5\", \"1º Semestre\", \"2º Semestre\"))"
      ],
      "metadata": {
        "id": "RmzsfRqaUO_T"
      },
      "execution_count": 29,
      "outputs": []
    },
    {
      "cell_type": "code",
      "source": [
        "# Calculando o percentual de crescimento por loja em cada semestre\n",
        "crescimento_por_loja_semestre <- crescimento_por_loja_semestre %>%\n",
        "  group_by(Loja, Semestre) %>%\n",
        "  summarize(Percentual_Crescimento_Semestre = mean(Percentual_Crescimento))"
      ],
      "metadata": {
        "colab": {
          "base_uri": "https://localhost:8080/",
          "height": 0
        },
        "id": "OIgz6munUXVx",
        "outputId": "7a25bfad-4cd0-426a-ec02-6bddc8b069c2"
      },
      "execution_count": 30,
      "outputs": [
        {
          "output_type": "stream",
          "name": "stderr",
          "text": [
            "\u001b[1m\u001b[22m`summarise()` has grouped output by 'Loja'. You can override using the\n",
            "`.groups` argument.\n"
          ]
        }
      ]
    },
    {
      "cell_type": "code",
      "source": [
        "# Encontrar a loja com o melhor crescimento em cada semestre\n",
        "melhor_crescimento_por_semestre <- crescimento_por_loja_semestre %>%\n",
        "  group_by(Semestre) %>%\n",
        "  top_n(1, wt = Percentual_Crescimento_Semestre)\n",
        "\n",
        "# Mostrar a tabela com a loja de melhor crescimento em cada semestre\n",
        "print(melhor_crescimento_por_semestre)"
      ],
      "metadata": {
        "colab": {
          "base_uri": "https://localhost:8080/",
          "height": 0
        },
        "id": "Lu41wMZMVdPW",
        "outputId": "be050d72-712b-4a6d-fed8-6c26fcdec197"
      },
      "execution_count": 31,
      "outputs": [
        {
          "output_type": "stream",
          "name": "stdout",
          "text": [
            "\u001b[90m# A tibble: 2 × 3\u001b[39m\n",
            "\u001b[90m# Groups:   Semestre [2]\u001b[39m\n",
            "  Loja  Semestre    Percentual_Crescimento_Semestre\n",
            "  \u001b[3m\u001b[90m<chr>\u001b[39m\u001b[23m \u001b[3m\u001b[90m<chr>\u001b[39m\u001b[23m                                 \u001b[3m\u001b[90m<dbl>\u001b[39m\u001b[23m\n",
            "\u001b[90m1\u001b[39m 141   1º Semestre                            239.\n",
            "\u001b[90m2\u001b[39m 506   2º Semestre                          \u001b[4m4\u001b[24m\u001b[4m7\u001b[24m813.\n"
          ]
        }
      ]
    },
    {
      "cell_type": "markdown",
      "source": [
        "# 3.Ranking das melhores lojas em percentual de crescimento de Dezembro 2019  (classificar da MELHOR PARA PIOR em % Crescimento sobre AA)."
      ],
      "metadata": {
        "id": "CkUJfPfkVzMW"
      }
    },
    {
      "cell_type": "code",
      "source": [
        "# Filtrando os dados apenas para o mês de dezembro de 2019\n",
        "dados_dez_2019 <- filter(dados, Ano == 2019, Mes == \"dez\")\n",
        "\n",
        "# Calculando o total de vendas para cada loja em dezembro de 2019 e em 2018\n",
        "vendas_por_loja_dez_2019 <- dados_dez_2019 %>%\n",
        "  group_by(Loja) %>%\n",
        "  summarize(Total_Venda_dez_2019 = sum(Venda))\n",
        "\n",
        "vendas_por_loja_2018 <- filter(dados, Ano == 2018) %>%\n",
        "  group_by(Loja) %>%\n",
        "  summarize(Total_Venda_2018 = sum(Venda))"
      ],
      "metadata": {
        "id": "C0W1E3QnVxeL"
      },
      "execution_count": 32,
      "outputs": []
    },
    {
      "cell_type": "code",
      "source": [
        "# Juntando os totais de vendas de dezembro de 2019 e de 2018 em um único dataframe\n",
        "crescimento_dez_2019 <- left_join(vendas_por_loja_dez_2019, vendas_por_loja_2018, by = \"Loja\")\n",
        "\n",
        "# Calculando o percentual de crescimento de dezembro de 2019 em relação a 2018 para cada loja\n",
        "crescimento_dez_2019 <- crescimento_dez_2019 %>%\n",
        "  mutate(Percentual_Crescimento = (Total_Venda_dez_2019 - Total_Venda_2018) / Total_Venda_2018 * 100)"
      ],
      "metadata": {
        "id": "_NhQwlD3WJCA"
      },
      "execution_count": 33,
      "outputs": []
    },
    {
      "cell_type": "code",
      "source": [
        "# filtrando apenas as lojas com percentual de crescimento positivo\n",
        "ranking_positivo_melhores_lojas_dez_2019 <- crescimento_dez_2019 %>%\n",
        "  filter(Percentual_Crescimento > 0) %>%\n",
        "  arrange(desc(Percentual_Crescimento))"
      ],
      "metadata": {
        "id": "HY2C-P42XF7a"
      },
      "execution_count": 34,
      "outputs": []
    },
    {
      "cell_type": "code",
      "source": [
        "# Mostrando o ranking das melhores lojas em percentual de crescimento de dezembro de 2019\n",
        "print(ranking_positivo_melhores_lojas_dez_2019)"
      ],
      "metadata": {
        "colab": {
          "base_uri": "https://localhost:8080/",
          "height": 0
        },
        "id": "BAIC-TAFWxV7",
        "outputId": "a2f196bf-66c4-400a-e91b-622766bb7d48"
      },
      "execution_count": 35,
      "outputs": [
        {
          "output_type": "stream",
          "name": "stdout",
          "text": [
            "\u001b[90m# A tibble: 1 × 4\u001b[39m\n",
            "  Loja  Total_Venda_dez_2019 Total_Venda_2018 Percentual_Crescimento\n",
            "  \u001b[3m\u001b[90m<chr>\u001b[39m\u001b[23m                \u001b[3m\u001b[90m<dbl>\u001b[39m\u001b[23m            \u001b[3m\u001b[90m<dbl>\u001b[39m\u001b[23m                  \u001b[3m\u001b[90m<dbl>\u001b[39m\u001b[23m\n",
            "\u001b[90m1\u001b[39m 506                \u001b[4m6\u001b[24m\u001b[4m4\u001b[24m\u001b[4m2\u001b[24m544.            \u001b[4m6\u001b[24m572.                  \u001b[4m9\u001b[24m676.\n"
          ]
        }
      ]
    },
    {
      "cell_type": "code",
      "source": [
        "# Ordenando as lojas pelo percentual de crescimento de dezembro de 2019\n",
        "ranking_geral_melhores_lojas_dez_2019 <- crescimento_dez_2019 %>%\n",
        "  arrange(desc(Percentual_Crescimento))\n",
        "# Mostrar o ranking das melhores lojas em percentual de crescimento de dezembro de 2019\n",
        "print(ranking_geral_melhores_lojas_dez_2019)"
      ],
      "metadata": {
        "colab": {
          "base_uri": "https://localhost:8080/",
          "height": 0
        },
        "id": "XO9iswCdXSRL",
        "outputId": "ac48d68a-3960-4564-bc2c-777ecf45cb55"
      },
      "execution_count": 36,
      "outputs": [
        {
          "output_type": "stream",
          "name": "stdout",
          "text": [
            "\u001b[90m# A tibble: 127 × 4\u001b[39m\n",
            "   Loja  Total_Venda_dez_2019 Total_Venda_2018 Percentual_Crescimento\n",
            "   \u001b[3m\u001b[90m<chr>\u001b[39m\u001b[23m                \u001b[3m\u001b[90m<dbl>\u001b[39m\u001b[23m            \u001b[3m\u001b[90m<dbl>\u001b[39m\u001b[23m                  \u001b[3m\u001b[90m<dbl>\u001b[39m\u001b[23m\n",
            "\u001b[90m 1\u001b[39m 506                \u001b[4m6\u001b[24m\u001b[4m4\u001b[24m\u001b[4m2\u001b[24m544.            \u001b[4m6\u001b[24m572.                 \u001b[4m9\u001b[24m676. \n",
            "\u001b[90m 2\u001b[39m 141               1\u001b[4m6\u001b[24m\u001b[4m3\u001b[24m\u001b[4m8\u001b[24m075.         1\u001b[4m9\u001b[24m\u001b[4m6\u001b[24m\u001b[4m6\u001b[24m740.                  -\u001b[31m16\u001b[39m\u001b[31m.\u001b[39m\u001b[31m7\u001b[39m\n",
            "\u001b[90m 3\u001b[39m 136                \u001b[4m7\u001b[24m\u001b[4m1\u001b[24m\u001b[4m8\u001b[24m612.         1\u001b[4m0\u001b[24m\u001b[4m8\u001b[24m\u001b[4m5\u001b[24m896.                  -\u001b[31m33\u001b[39m\u001b[31m.\u001b[39m\u001b[31m8\u001b[39m\n",
            "\u001b[90m 4\u001b[39m 140                \u001b[4m9\u001b[24m\u001b[4m3\u001b[24m\u001b[4m1\u001b[24m177.         1\u001b[4m9\u001b[24m\u001b[4m6\u001b[24m\u001b[4m1\u001b[24m619.                  -\u001b[31m52\u001b[39m\u001b[31m.\u001b[39m\u001b[31m5\u001b[39m\n",
            "\u001b[90m 5\u001b[39m 139                \u001b[4m7\u001b[24m\u001b[4m9\u001b[24m\u001b[4m9\u001b[24m390.         2\u001b[4m1\u001b[24m\u001b[4m9\u001b[24m\u001b[4m1\u001b[24m948.                  -\u001b[31m63\u001b[39m\u001b[31m.\u001b[39m\u001b[31m5\u001b[39m\n",
            "\u001b[90m 6\u001b[39m 138               1\u001b[4m7\u001b[24m\u001b[4m2\u001b[24m\u001b[4m5\u001b[24m059.         6\u001b[4m0\u001b[24m\u001b[4m6\u001b[24m\u001b[4m9\u001b[24m576.                  -\u001b[31m71\u001b[39m\u001b[31m.\u001b[39m\u001b[31m6\u001b[39m\n",
            "\u001b[90m 7\u001b[39m 1                 1\u001b[4m2\u001b[24m\u001b[4m0\u001b[24m\u001b[4m2\u001b[24m593.         4\u001b[4m5\u001b[24m\u001b[4m0\u001b[24m\u001b[4m2\u001b[24m960.                  -\u001b[31m73\u001b[39m\u001b[31m.\u001b[39m\u001b[31m3\u001b[39m\n",
            "\u001b[90m 8\u001b[39m 122               3\u001b[4m0\u001b[24m\u001b[4m1\u001b[24m\u001b[4m0\u001b[24m380.        11\u001b[4m5\u001b[24m\u001b[4m5\u001b[24m\u001b[4m2\u001b[24m476.                  -\u001b[31m73\u001b[39m\u001b[31m.\u001b[39m\u001b[31m9\u001b[39m\n",
            "\u001b[90m 9\u001b[39m 63                 \u001b[4m5\u001b[24m\u001b[4m5\u001b[24m\u001b[4m4\u001b[24m858.         2\u001b[4m1\u001b[24m\u001b[4m3\u001b[24m\u001b[4m8\u001b[24m800.                  -\u001b[31m74\u001b[39m\u001b[31m.\u001b[39m\u001b[31m1\u001b[39m\n",
            "\u001b[90m10\u001b[39m 135               1\u001b[4m4\u001b[24m\u001b[4m3\u001b[24m\u001b[4m7\u001b[24m992.         5\u001b[4m8\u001b[24m\u001b[4m6\u001b[24m\u001b[4m2\u001b[24m070.                  -\u001b[31m75\u001b[39m\u001b[31m.\u001b[39m\u001b[31m5\u001b[39m\n",
            "\u001b[90m# ℹ 117 more rows\u001b[39m\n"
          ]
        }
      ]
    }
  ]
}